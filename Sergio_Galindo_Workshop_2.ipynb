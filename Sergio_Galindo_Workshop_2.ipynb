{
  "nbformat": 4,
  "nbformat_minor": 0,
  "metadata": {
    "colab": {
      "provenance": [],
      "include_colab_link": true
    },
    "kernelspec": {
      "name": "python3",
      "display_name": "Python 3"
    },
    "language_info": {
      "name": "python"
    }
  },
  "cells": [
    {
      "cell_type": "markdown",
      "metadata": {
        "id": "view-in-github",
        "colab_type": "text"
      },
      "source": [
        "<a href=\"https://colab.research.google.com/github/SergioGalindo27/DataVisual2023/blob/main/Sergio_Galindo_Workshop_2.ipynb\" target=\"_parent\"><img src=\"https://colab.research.google.com/assets/colab-badge.svg\" alt=\"Open In Colab\"/></a>"
      ]
    },
    {
      "cell_type": "markdown",
      "source": [
        "<h1 align = \"center\">\n",
        "<strong> Universidad de La Salle </strong>\n",
        "</h1>\n",
        "\n",
        "<h1 align = \"center\">\n",
        "<strong> Finance and International Commerce Program </strong>\n",
        "</h1>\n",
        "\n",
        "<h1 align = \"center\">\n",
        "<strong> Data Visualization - Workshop 2 </strong>\n",
        "</h1>\n"
      ],
      "metadata": {
        "id": "BJolccUZSw9G"
      }
    },
    {
      "cell_type": "markdown",
      "source": [
        "# **Instructions**\n",
        "\n",
        "1. Please read carefully the document. Ask all the questions you may have.\n",
        "2. Save this file in your Google Drive.\n",
        "3. DO NOT alter any cell unless it specifically ask you to do it.\n",
        "4. You will have **two hours** (until 11am) maximum to finish and deliver this workshop.\n",
        "5. You can use any help you want: your notes, your codes, internet, classmates.\n",
        "6. Nevertheless, the workshop must be presented individually.\n",
        "7. Once you have finish, save a copy in your GitHub class repository.\n",
        "8. The deliver process is as follows:\n",
        "    \n",
        "    8.1. Via email you will send the link to the GitHub location.\n",
        "    \n",
        "    8.2. In the same mail, just for safety, you will attach a copy of your `.ipynb` file.\n",
        "    \n",
        "    8.3. The email must have the subject: \"W2 DV\".   "
      ],
      "metadata": {
        "id": "pLRc5RAyWsre"
      }
    },
    {
      "cell_type": "markdown",
      "source": [
        "# **To keep in mind**\n",
        "\n",
        "* The excercises propouse are intended to **push** you a little futher in your Pyton skills.\n",
        "* This means that there are going to be exercises above the level seen in class.\n",
        "* The idea is to incentive your creative thinking and solving problem skills.\n",
        "* As always there several ways to do the excersice. But in this case, I ask you to use only the tools we learned.\n",
        "* I ask you to trust me. Give your best effort. Grades do not matter here."
      ],
      "metadata": {
        "id": "4QKdNKujZEbk"
      }
    },
    {
      "cell_type": "markdown",
      "source": [
        "# **Exercise**\n",
        "\n",
        "**Roulette!**\n",
        "\n",
        "Let's simulate a casino game.\n",
        "Specifically, a single-zero (french) roulette.\n",
        "\n",
        "This game consists on rolling a ball over a wheel with number pockets.\n",
        "\n",
        "[Game](https://image.shutterstock.com/image-illustration/casino-roulette-wheel-chips-on-600w-1288790665.jpg)\n",
        "\n",
        "There are several ways to bet on this game, you have to code a few."
      ],
      "metadata": {
        "id": "2kRoSKUmaGl9"
      }
    },
    {
      "cell_type": "code",
      "source": [
        "import numpy as np"
      ],
      "metadata": {
        "id": "8lMuVMe0iwhw"
      },
      "execution_count": null,
      "outputs": []
    },
    {
      "cell_type": "markdown",
      "source": [
        "## Ex 1 - Number Bet\n",
        "\n",
        "You can bet on any number between 0 and 36.\n",
        "You win if the result is the number you bet on.\n",
        "In any other case, you lose.\n",
        "\n",
        "Write the appropiate the code to reflect this process.\n",
        "\n",
        "The result must show the bet made, the result obtained and if you win or lose."
      ],
      "metadata": {
        "id": "PYIRNu3imJ_n"
      }
    },
    {
      "cell_type": "code",
      "execution_count": null,
      "metadata": {
        "id": "9TaC9734lQMI",
        "colab": {
          "base_uri": "https://localhost:8080/"
        },
        "outputId": "6c050832-c768-46ea-c33f-2ae384d1b39d"
      },
      "outputs": [
        {
          "output_type": "stream",
          "name": "stdout",
          "text": [
            "Apuesta: 17\n",
            "Resultado: 10\n",
            "¡Perdiste!\n"
          ]
        }
      ],
      "source": [
        "# Answ. Ex 1\n",
        "# (write your code below)\n",
        "def realizar_apuesta(numero_apostado):\n",
        "    resultado = np.random.randint(0, 37)\n",
        "    if numero_apostado == resultado:\n",
        "        resultado_apuesta = \"Ganaste\"\n",
        "    else:\n",
        "        resultado_apuesta = \"Perdiste\"\n",
        "    # Mostrar el resultado de la apuesta\n",
        "    print(f\"Apuesta: {numero_apostado}\")\n",
        "    print(f\"Resultado: {resultado}\")\n",
        "    print(f\"¡{resultado_apuesta}!\")\n",
        "numero_apuesta = 17\n",
        "realizar_apuesta(numero_apuesta)\n",
        "\n"
      ]
    },
    {
      "cell_type": "markdown",
      "source": [
        "## Ex 2 - Color Bet\n",
        "\n",
        "Each color has an associated color. Zero is neutral.\n",
        "\n",
        "And the rest of the numbers vary between black and red (see the previous image).\n",
        "\n",
        "Write the appropiate code to simulate a random round of Roulette using only the color bet (black or white).\n",
        "\n",
        "The result must show the bet made, the result obtained and if you win or lose.\n",
        "\n",
        "*Tip: first define when you lose and when you win.*"
      ],
      "metadata": {
        "id": "LAdWe8iEaL7B"
      }
    },
    {
      "cell_type": "code",
      "execution_count": null,
      "metadata": {
        "id": "rw792kISSt3n",
        "colab": {
          "base_uri": "https://localhost:8080/"
        },
        "outputId": "a558a34b-b033-42df-f458-13e4cca5fd9d"
      },
      "outputs": [
        {
          "output_type": "stream",
          "name": "stdout",
          "text": [
            "Apuesta al color: Rojo\n",
            "Resultado: Rojo\n",
            "¡Ganaste!\n"
          ]
        }
      ],
      "source": [
        "# Answ. Ex 2\n",
        "# (write your code below)\n",
        "import numpy as np\n",
        "def apostar_al_color(numero_apostado):\n",
        "    resultado = np.random.randint(0, 37)\n",
        "    colores = {\n",
        "        0: \"Verde\",\n",
        "        **{n: \"Rojo\" if n % 2 == 1 else \"Negro\" for n in range(1, 37)},\n",
        "    }\n",
        "    if colores[resultado] == numero_apostado:\n",
        "        resultado_apuesta = \"Ganaste\"\n",
        "    else:\n",
        "        resultado_apuesta = \"Perdiste\"\n",
        "    print(f\"Apuesta al color: {numero_apostado}\")\n",
        "    print(f\"Resultado: {colores[resultado]}\")\n",
        "    print(f\"¡{resultado_apuesta}!\")\n",
        "apostar_al_color(\"Rojo\")\n"
      ]
    },
    {
      "cell_type": "markdown",
      "source": [
        "## Ex 3 - Dozens Bet\n",
        "\n",
        "Given the 3 groups:\n",
        "\n",
        "A -> numbers between 1 and 12.\n",
        "B -> numbers between 13 and 24.\n",
        "C -> numbers between 25 and 36.\n",
        "\n",
        "Write the appropiate code to print the result of betting exclusively with dozens.\n",
        "\n",
        "The result must show the bet made, the result obtained and if you win or lose.\n",
        "\n",
        "*Tip: Note that zero is not in the groups but it is a possible result.*"
      ],
      "metadata": {
        "id": "YFsGiwcNfgzP"
      }
    },
    {
      "cell_type": "code",
      "source": [
        "# Answ. Ex 3\n",
        "# (write your code below)\n",
        "\n",
        "import numpy as np\n",
        "def apostar_a_docena(docena_apostada):\n",
        "    resultado = np.random.randint(0, 37)\n",
        "    if 1 <= resultado <= 12:\n",
        "        docena_resultado = \"A\"\n",
        "    elif 13 <= resultado <= 24:\n",
        "        docena_resultado = \"B\"\n",
        "    else:\n",
        "        docena_resultado = \"C\"\n",
        "    if docena_resultado == docena_apostada:\n",
        "        resultado_apuesta = \"Ganaste\"\n",
        "    else:\n",
        "        resultado_apuesta = \"Perdiste\"\n",
        "    print(f\"Apuesta a la docena: {docena_apostada}\")\n",
        "    print(f\"Resultado: Docena {docena_resultado}\")\n",
        "    print(f\"¡{resultado_apuesta}!\")\n",
        "apostar_a_docena(\"B\")\n"
      ],
      "metadata": {
        "id": "Dwdsh30Ti3vl",
        "colab": {
          "base_uri": "https://localhost:8080/"
        },
        "outputId": "5e5a7339-641e-48b9-c167-ebda61e0c0d7"
      },
      "execution_count": null,
      "outputs": [
        {
          "output_type": "stream",
          "name": "stdout",
          "text": [
            "Apuesta a la docena: B\n",
            "Resultado: Docena A\n",
            "¡Perdiste!\n"
          ]
        }
      ]
    },
    {
      "cell_type": "markdown",
      "source": [
        "## Ex 4 - Putting everything together\n",
        "\n",
        "Write the code that simulate a random game of Roulette where the person can bet on: Number, Color, Dozen or any combination she or he wants.\n",
        "\n",
        "The result must show the bet made, the result obtained and if you win or lose."
      ],
      "metadata": {
        "id": "RSyiV1UPlVcJ"
      }
    },
    {
      "cell_type": "code",
      "source": [
        "# Answ. Ex 4\n",
        "# (write your code below)\n",
        "def apostar_en_ruleta(apuesta):\n",
        "    resultado = np.random.randint(0, 37)\n",
        "    colores = {\n",
        "        0: \"Verde\",\n",
        "        **{n: \"Rojo\" if n % 2 == 1 else \"Negro\" for n in range(1, 37)},\n",
        "    }\n",
        "    if 1 <= resultado <= 12:\n",
        "        docena_resultado = \"A\"\n",
        "    elif 13 <= resultado <= 24:\n",
        "        docena_resultado = \"B\"\n",
        "    else:\n",
        "        docena_resultado = \"C\"\n",
        "    if apuesta.isdigit():\n",
        "        if int(apuesta) == resultado:\n",
        "            resultado_apuesta = \"Ganaste\"\n",
        "        else:\n",
        "            resultado_apuesta = \"Perdiste\"\n",
        "    elif apuesta.lower() in [\"rojo\", \"negro\", \"verde\"]:\n",
        "        if colores[resultado].lower() == apuesta.lower():\n",
        "            resultado_apuesta = \"Ganaste\"\n",
        "        else:\n",
        "            resultado_apuesta = \"Perdiste\"\n",
        "    elif apuesta.lower() in [\"a\", \"b\", \"c\"]:\n",
        "        if docena_resultado.lower() == apuesta.lower():\n",
        "            resultado_apuesta = \"Ganaste\"\n",
        "        else:\n",
        "            resultado_apuesta = \"Perdiste\"\n",
        "    else:\n",
        "        resultado_apuesta = \"Apuesta no válida\"\n",
        "    print(f\"Apuesta: {apuesta}\")\n",
        "    print(f\"Resultado: {resultado}\")\n",
        "    print(f\"¡{resultado_apuesta}!\")\n",
        "apuesta = input(\"Realiza tu apuesta (número, color [rojo/negro/verde], docena [A/B/C]): \")\n",
        "apostar_en_ruleta(apuesta)"
      ],
      "metadata": {
        "id": "FQU_vc_5sse0"
      },
      "execution_count": null,
      "outputs": []
    },
    {
      "cell_type": "code",
      "source": [],
      "metadata": {
        "id": "iPVHRWImaNuz"
      },
      "execution_count": null,
      "outputs": []
    }
  ]
}